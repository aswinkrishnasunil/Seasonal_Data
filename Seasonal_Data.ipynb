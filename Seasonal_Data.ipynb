{
 "cells": [
  {
   "cell_type": "markdown",
   "id": "8ec3e60a",
   "metadata": {},
   "source": [
    "# Seasonal Data"
   ]
  },
  {
   "cell_type": "code",
   "execution_count": 2,
   "id": "8b9234bc",
   "metadata": {},
   "outputs": [],
   "source": [
    "from tabula.io import read_pdf\n",
    "import pandas as pd\n",
    "import sqlalchemy\n",
    "from sqlalchemy import create_engine\n"
   ]
  },
  {
   "cell_type": "code",
   "execution_count": null,
   "id": "78920de7",
   "metadata": {},
   "outputs": [],
   "source": [
    "#creates a SQLAlchemy engine object that connects to the SQLite\n",
    "engine = create_engine('sqlite:///db_seasonal.db')\n",
    "\n",
    "pdf_path = \"forecast.pdf\"\n",
    "#extracts all of the tables into a list of tables.\n",
    "table = read_pdf(pdf_path, pages=\"all\")\n",
    "\n",
    "tables_with_given_column = []\n",
    "# creates a list of values to search for in the tables.\n",
    "values = [\"East Texas \", \"Mid Continent\",\"Permian\",\"East\",\"Gulf Coast\",\"South Texas\",\"Rockies \",\"San Juan\",\"West\",\"Gulf of Mexico\",\"W. Canada\"]\n",
    "\n",
    "# iterates over the list of tables, enumerating them so that we can access the index of each table.\n",
    "for i, table in enumerate(table):\n",
    "    #checks if any of the columns in the table are Dry Production, Rigs, or Well.\n",
    "    if any(column in table.columns for column in ['Dry Production', 'Rigs', 'Well']):\n",
    "        for value in values: # iterates over the list of values to search for.\n",
    "            if value in table.to_string():\n",
    "                #checks if the current value in the list of values to search for is present in the string representation of the table. If it is, the code prints the table to the console and appends it to the tables_with_given_column list.\n",
    "                print(table)\n",
    "                tables_with_given_column.append((table))\n",
    "                \n",
    "for  table in tables_with_given_column:\n",
    "    # iterates over the list of tables that have any of the columns in the values list.\n",
    "    table.to_sql(name=a,con=engine,if_exists='replace', index=False)\n",
    "    # writes the table to the SQLite database, using the table name a. \n",
    "    #The if_exists parameter is set to replace, which means that the existing table will be replaced\n",
    "    #if it exists. The index parameter is set to False, which means that the index of the table will not be written to the database.\n",
    "    "
   ]
  },
  {
   "cell_type": "code",
   "execution_count": null,
   "id": "bf0af48a",
   "metadata": {},
   "outputs": [],
   "source": []
  },
  {
   "cell_type": "code",
   "execution_count": null,
   "id": "bb77cd7a",
   "metadata": {},
   "outputs": [],
   "source": []
  },
  {
   "cell_type": "code",
   "execution_count": null,
   "id": "0dd4792c",
   "metadata": {},
   "outputs": [],
   "source": []
  }
 ],
 "metadata": {
  "kernelspec": {
   "display_name": "Python 3 (ipykernel)",
   "language": "python",
   "name": "python3"
  },
  "language_info": {
   "codemirror_mode": {
    "name": "ipython",
    "version": 3
   },
   "file_extension": ".py",
   "mimetype": "text/x-python",
   "name": "python",
   "nbconvert_exporter": "python",
   "pygments_lexer": "ipython3",
   "version": "3.11.4"
  }
 },
 "nbformat": 4,
 "nbformat_minor": 5
}
